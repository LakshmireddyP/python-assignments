{
 "cells": [
  {
   "cell_type": "markdown",
   "id": "525cc7c4",
   "metadata": {},
   "source": [
    "1.What are the two values of the Boolean data type? How do you write them?"
   ]
  },
  {
   "cell_type": "markdown",
   "id": "a1734a9e",
   "metadata": {},
   "source": [
    "The two values of boolean data types are True and False\n",
    "for these first letter should be Capital letter.\n",
    "0 represents False \n",
    "1 represents True"
   ]
  },
  {
   "cell_type": "markdown",
   "id": "6be9b56a",
   "metadata": {},
   "source": [
    "2. What are the three different types of Boolean operators?"
   ]
  },
  {
   "cell_type": "markdown",
   "id": "787608e5",
   "metadata": {},
   "source": [
    "AND(&)\n",
    "OR(||)\n",
    "NOT(!)"
   ]
  },
  {
   "cell_type": "markdown",
   "id": "d470e645",
   "metadata": {},
   "source": [
    "3. Make a list of each Boolean operator's truth tables (i.e. every possible combination of Boolean\n",
    "values for the operator and what it evaluate )."
   ]
  },
  {
   "cell_type": "markdown",
   "id": "c9aed84a",
   "metadata": {},
   "source": [
    "AND Operator (&&):\n",
    "A B A && B\n",
    "0 0   0\n",
    "0 1   0\n",
    "1 0   0\n",
    "1 1   1\n",
    "OR Operator (||):\n",
    "A B A || B\n",
    "0 0  0\n",
    "0 1  1\n",
    "1 0  1\n",
    "1 1  1\n",
    "A  !A\n",
    "0  1\n",
    "1  0"
   ]
  },
  {
   "cell_type": "markdown",
   "id": "ca6603f1",
   "metadata": {},
   "source": [
    "4. What are the values of the following expressions?\n",
    "(5 > 4) and (3 == 5)\n",
    "not (5 > 4)\n",
    "(5 > 4) or (3 == 5)\n",
    "not ((5 > 4) or (3 == 5))\n",
    "(True and True) and (True == False)\n",
    "(not False) or (not True)"
   ]
  },
  {
   "cell_type": "code",
   "execution_count": null,
   "id": "27f18132",
   "metadata": {},
   "outputs": [],
   "source": [
    "True and False =False\n",
    "False\n",
    "True\n",
    "False\n",
    "False\n",
    "True"
   ]
  },
  {
   "cell_type": "markdown",
   "id": "63a08d46",
   "metadata": {},
   "source": [
    "5. What are the six comparison operators?"
   ]
  },
  {
   "cell_type": "code",
   "execution_count": null,
   "id": "09e02068",
   "metadata": {},
   "outputs": [],
   "source": [
    "== Equal  x == y\n",
    "!= Not equal  x != y\n",
    "> Greater than  x > y\n",
    "< Less than  x < y\n",
    ">= Greater than or equal to  x >= y\n",
    "<= Less than or equal to  x <= y"
   ]
  },
  {
   "cell_type": "markdown",
   "id": "6e955457",
   "metadata": {},
   "source": [
    "6. How do you tell the difference between the equal to and assignment operators?Describe a\n",
    "condition and when you would use one."
   ]
  },
  {
   "cell_type": "markdown",
   "id": "a7dfe1a0",
   "metadata": {},
   "source": [
    "The key difference between the equal to operator (==) and the assignment operator (=) is that the equal to operator is used for comparison, while the assignment operator is used to assign values to variables.\n",
    "example:\n",
    "if a==b ==>check if a is equal to b\n",
    "a=10    ==>here 10 is assigned to a"
   ]
  },
  {
   "cell_type": "code",
   "execution_count": null,
   "id": "e140df26",
   "metadata": {},
   "outputs": [],
   "source": [
    "7. Identify the three blocks in this code:\n",
    "spam = 0\n",
    "if spam == 10:\n",
    "    print('eggs')\n",
    "if spam > 5:\n",
    "    print('bacon')\n",
    "else:\n",
    "    print('ham')\n",
    "    print('spam')\n",
    "    print('spam')"
   ]
  },
  {
   "cell_type": "markdown",
   "id": "68c27347",
   "metadata": {},
   "source": [
    "In python Indentation represents the block of code\n",
    "block-1:\n",
    "    if spam == 10:\n",
    "        print('eggs')\n",
    "block-2:\n",
    "    if spam > 5:\n",
    "        print('bacon')\n",
    "block-3:\n",
    "    else:\n",
    "        print('ham')\n",
    "        print('spam')\n",
    "        print('spam')"
   ]
  },
  {
   "cell_type": "markdown",
   "id": "8397273b",
   "metadata": {},
   "source": [
    "8. Write code that prints Hello if 1 is stored in spam, prints Howdy if 2 is stored in spam, and prints\n",
    "Greetings! if anything else is stored in spam."
   ]
  },
  {
   "cell_type": "code",
   "execution_count": 9,
   "id": "df6b97ca",
   "metadata": {},
   "outputs": [
    {
     "name": "stdout",
     "output_type": "stream",
     "text": [
      "Greetings!\n"
     ]
    }
   ],
   "source": [
    "spam=3\n",
    "if spam==1:\n",
    "    print(\"Hello\")\n",
    "elif spam==2:\n",
    "    print(\"Howdy\")\n",
    "else:\n",
    "    print(\"Greetings!\")"
   ]
  },
  {
   "cell_type": "markdown",
   "id": "fc386b7d",
   "metadata": {},
   "source": [
    "9.If your programme is stuck in an endless loop, what keys you’ll press?"
   ]
  },
  {
   "cell_type": "markdown",
   "id": "7157b32e",
   "metadata": {},
   "source": [
    "Ctrl+c"
   ]
  },
  {
   "cell_type": "markdown",
   "id": "371c0c98",
   "metadata": {},
   "source": [
    "10. How can you tell the difference between break and continue?"
   ]
  },
  {
   "cell_type": "code",
   "execution_count": 17,
   "id": "7569e2e5",
   "metadata": {},
   "outputs": [
    {
     "name": "stdout",
     "output_type": "stream",
     "text": [
      "0\n",
      "1\n",
      "2\n",
      "3\n"
     ]
    }
   ],
   "source": [
    "#Break terminates the excecution But Continue skips the iteration next step\n",
    "#example for break\n",
    "for i in range(1, 6):\n",
    "    if i == 3:\n",
    "        break\n",
    "    print(i)\n",
    "\n",
    "print(\"Loop ended\")\n",
    "#example for continue\n",
    "for i in range(1, 6):\n",
    "    if i == 3:\n",
    "        continue\n",
    "    print(i)\n",
    "\n",
    "print(\"Loop ended\")"
   ]
  },
  {
   "cell_type": "markdown",
   "id": "4721194b",
   "metadata": {},
   "source": [
    "11. In a for loop, what is the difference between range(10), range(0, 10), and range(0, 10, 1)?"
   ]
  },
  {
   "cell_type": "markdown",
   "id": "7ed2e185",
   "metadata": {},
   "source": [
    "all the above three cases are same and these are generates the values from 0 to 9 by increment of 1"
   ]
  },
  {
   "cell_type": "markdown",
   "id": "29f6fbb4",
   "metadata": {},
   "source": [
    "12. Write a short program that prints the numbers 1 to 10 using a for loop. Then write an equivalent\n",
    "program that prints the numbers 1 to 10 using a while loop."
   ]
  },
  {
   "cell_type": "code",
   "execution_count": 18,
   "id": "e399e0c7",
   "metadata": {},
   "outputs": [
    {
     "name": "stdout",
     "output_type": "stream",
     "text": [
      "1\n",
      "2\n",
      "3\n",
      "4\n",
      "5\n",
      "6\n",
      "7\n",
      "8\n",
      "9\n",
      "10\n",
      "1\n",
      "2\n",
      "3\n",
      "4\n",
      "5\n",
      "6\n",
      "7\n",
      "8\n",
      "9\n",
      "10\n"
     ]
    }
   ],
   "source": [
    "#a program to print numbers from 1 to 10 using for loop\n",
    "for i in range(1, 11):\n",
    "    print(i)\n",
    "#a program to print numbers from 1 to 10 using while loop\n",
    "i = 1\n",
    "while i <= 10:\n",
    "    print(i)\n",
    "    i += 1"
   ]
  },
  {
   "cell_type": "markdown",
   "id": "2bcb5549",
   "metadata": {},
   "source": [
    "13. If you had a function named bacon() inside a module named spam, how would you call it after\n",
    "importing spam?"
   ]
  },
  {
   "cell_type": "code",
   "execution_count": null,
   "id": "ee454412",
   "metadata": {},
   "outputs": [],
   "source": [
    "import spam\n",
    "\n",
    "spam.bacon()"
   ]
  }
 ],
 "metadata": {
  "kernelspec": {
   "display_name": "Python 3 (ipykernel)",
   "language": "python",
   "name": "python3"
  },
  "language_info": {
   "codemirror_mode": {
    "name": "ipython",
    "version": 3
   },
   "file_extension": ".py",
   "mimetype": "text/x-python",
   "name": "python",
   "nbconvert_exporter": "python",
   "pygments_lexer": "ipython3",
   "version": "3.10.1"
  }
 },
 "nbformat": 4,
 "nbformat_minor": 5
}
