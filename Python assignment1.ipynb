{
 "cells": [
  {
   "cell_type": "markdown",
   "id": "2fa74939",
   "metadata": {},
   "source": [
    "1.In the below elements which of them are values or an expression? eg:- values can be\n",
    "integer or string and expressions will be mathematical operators.\n",
    "*\n",
    "'hello'\n",
    "-87.8\n",
    "-\n",
    "/\n",
    "+\n",
    "6"
   ]
  },
  {
   "cell_type": "markdown",
   "id": "9bfbb0f8",
   "metadata": {},
   "source": [
    "In the given list, the values are:\n",
    "'hello'(string)\n",
    "-87.8 (floating-point number)\n",
    "6 (integer)\n",
    "The expressions are:\n",
    "(multiplication operator)\n",
    "(subtraction operator)\n",
    "/ (division operator)\n",
    "(addition operator)"
   ]
  },
  {
   "cell_type": "markdown",
   "id": "a4f7cedb",
   "metadata": {},
   "source": [
    "2. What is the difference between string and variable?"
   ]
  },
  {
   "cell_type": "markdown",
   "id": "a1627110",
   "metadata": {},
   "source": [
    "String: a string is a data type used to represent a sequence of characters in inverted commas\n",
    "Variable: A variable is a name given to the data type in programming"
   ]
  },
  {
   "cell_type": "markdown",
   "id": "5054dda9",
   "metadata": {},
   "source": [
    "3. Describe three different data types.\n",
    "    int--It is used to represent numbers\n",
    "    Float-- It is used to represent decimal values\n",
    "    String--It is used to represent a sequence of characters\n",
    "    "
   ]
  },
  {
   "cell_type": "markdown",
   "id": "465c913b",
   "metadata": {},
   "source": [
    "4. What is an expression made up of? What do all expressions do?"
   ]
  },
  {
   "cell_type": "markdown",
   "id": "be9cd86c",
   "metadata": {},
   "source": [
    "An expression contains combination of operators and values or variables.\n",
    "Expression compute the data as per the given operators and their sequence"
   ]
  },
  {
   "cell_type": "markdown",
   "id": "b16b8bae",
   "metadata": {},
   "source": [
    "5. This assignment statements, like spam = 10. What is the difference between an\n",
    "expression and a statement?"
   ]
  },
  {
   "cell_type": "markdown",
   "id": "34e37203",
   "metadata": {},
   "source": [
    "The difference between an expression and a statement is :\n",
    "     An expression evaluates to the values, whereas a statement performs an action or controls the flow of the program."
   ]
  },
  {
   "cell_type": "markdown",
   "id": "7b8bbae0",
   "metadata": {},
   "source": [
    "6. After running the following code, what does the variable bacon contain?\n",
    "bacon = 22\n",
    "bacon + 1"
   ]
  },
  {
   "cell_type": "markdown",
   "id": "2aee5852",
   "metadata": {},
   "source": [
    "bacon=22\n",
    "bacon+\n",
    "It gives the syntax error\n",
    "If we want to increment a value in python we have to  use += Operator "
   ]
  },
  {
   "cell_type": "markdown",
   "id": "12ed180d",
   "metadata": {},
   "source": [
    "7. What should the values of the following two terms be?\n",
    "'spam'+'spamspam'\n",
    "'spam'* 3"
   ]
  },
  {
   "cell_type": "markdown",
   "id": "bb82d640",
   "metadata": {},
   "source": [
    "These are string concatenation and string multiplication\n",
    "'spam' + 'spamspam' => 'spamspamspam'\n",
    "'spam' * 3 => 'spamspamspam'"
   ]
  },
  {
   "cell_type": "markdown",
   "id": "a2769af9",
   "metadata": {},
   "source": [
    "8. Why is eggs a valid variable name while 100 is invalid?"
   ]
  },
  {
   "cell_type": "markdown",
   "id": "54ed8287",
   "metadata": {},
   "source": [
    "According to variable rules:\n",
    "    a variable can be start with letters or underscore\n",
    "    A variable cannot be start with numbers or any special characters\n",
    "    Therefore eggs is a valid variable where as 100 is not a valid variable"
   ]
  },
  {
   "cell_type": "markdown",
   "id": "7dda2793",
   "metadata": {},
   "source": [
    "9. What three functions can be used to get the integer, floating-point number, or string\n",
    "version of a value?"
   ]
  },
  {
   "cell_type": "code",
   "execution_count": 9,
   "id": "32794b5f",
   "metadata": {},
   "outputs": [
    {
     "name": "stdout",
     "output_type": "stream",
     "text": [
      "45\n",
      "9.0\n",
      "99\n",
      "<class 'str'>\n"
     ]
    }
   ],
   "source": [
    "#int()==> converts float and numbered strings into integers\n",
    "a=\"45\"\n",
    "print(int(a))\n",
    "#float()==> converts integers into floating numbers\n",
    "x=9\n",
    "print(float(x))\n",
    "#str()==> It converts any datatypes into Strings\n",
    "s=str(99)\n",
    "print(s)\n",
    "print(type(s))\n"
   ]
  },
  {
   "cell_type": "markdown",
   "id": "780bd40e",
   "metadata": {},
   "source": [
    "10. Why does this expression cause an error? How can you fix it\n",
    "'I have eaten'+ 99 +'burritos'"
   ]
  },
  {
   "cell_type": "code",
   "execution_count": 10,
   "id": "792b271f",
   "metadata": {},
   "outputs": [
    {
     "data": {
      "text/plain": [
       "'I have eaten99burritos'"
      ]
     },
     "execution_count": 10,
     "metadata": {},
     "output_type": "execute_result"
    }
   ],
   "source": [
    "# Error: we are unable to concatenate integer to the string directly \n",
    "# Correction: convert integer into string and do the concatenation operation\n",
    "'I have eaten'+ str(99) +'burritos'"
   ]
  },
  {
   "cell_type": "code",
   "execution_count": null,
   "id": "31fb4df4",
   "metadata": {},
   "outputs": [],
   "source": []
  }
 ],
 "metadata": {
  "kernelspec": {
   "display_name": "Python 3 (ipykernel)",
   "language": "python",
   "name": "python3"
  },
  "language_info": {
   "codemirror_mode": {
    "name": "ipython",
    "version": 3
   },
   "file_extension": ".py",
   "mimetype": "text/x-python",
   "name": "python",
   "nbconvert_exporter": "python",
   "pygments_lexer": "ipython3",
   "version": "3.10.1"
  }
 },
 "nbformat": 4,
 "nbformat_minor": 5
}
